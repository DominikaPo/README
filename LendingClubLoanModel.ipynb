{
 "cells": [
  {
   "cell_type": "code",
   "execution_count": 1,
   "id": "a3ae3e14-cbdf-481d-bfc2-e7a2eef2e22f",
   "metadata": {},
   "outputs": [],
   "source": [
    "import pandas as pd\n",
    "#Wybrane zmienne do tworzenia modelu\n",
    "df_new = pd.read_csv(\"df_new.csv\")\n",
    "\n",
    "selected_columns = ['loan_amnt', 'int_rate', 'dti', 'delinq_2yrs', 'annual_inc', 'loan_status', 'term']\n",
    "df_model = df_new[selected_columns].copy()"
   ]
  },
  {
   "cell_type": "code",
   "execution_count": 2,
   "id": "80d2e02e-e228-4c97-98f3-7b1591916288",
   "metadata": {},
   "outputs": [],
   "source": [
    "df_model.to_csv('df_model.csv', index=False)"
   ]
  },
  {
   "cell_type": "code",
   "execution_count": 3,
   "id": "5f46b7f8-e949-4b86-81f5-040b8b228a37",
   "metadata": {},
   "outputs": [
    {
     "data": {
      "text/html": [
       "<div>\n",
       "<style scoped>\n",
       "    .dataframe tbody tr th:only-of-type {\n",
       "        vertical-align: middle;\n",
       "    }\n",
       "\n",
       "    .dataframe tbody tr th {\n",
       "        vertical-align: top;\n",
       "    }\n",
       "\n",
       "    .dataframe thead th {\n",
       "        text-align: right;\n",
       "    }\n",
       "</style>\n",
       "<table border=\"1\" class=\"dataframe\">\n",
       "  <thead>\n",
       "    <tr style=\"text-align: right;\">\n",
       "      <th></th>\n",
       "      <th>loan_amnt</th>\n",
       "      <th>int_rate</th>\n",
       "      <th>dti</th>\n",
       "      <th>delinq_2yrs</th>\n",
       "      <th>annual_inc</th>\n",
       "      <th>loan_status</th>\n",
       "      <th>term</th>\n",
       "    </tr>\n",
       "  </thead>\n",
       "  <tbody>\n",
       "    <tr>\n",
       "      <th>0</th>\n",
       "      <td>2500</td>\n",
       "      <td>13.56</td>\n",
       "      <td>18.24</td>\n",
       "      <td>0.0</td>\n",
       "      <td>55000.0</td>\n",
       "      <td>Current</td>\n",
       "      <td>36 months</td>\n",
       "    </tr>\n",
       "    <tr>\n",
       "      <th>1</th>\n",
       "      <td>30000</td>\n",
       "      <td>18.94</td>\n",
       "      <td>26.52</td>\n",
       "      <td>0.0</td>\n",
       "      <td>90000.0</td>\n",
       "      <td>Current</td>\n",
       "      <td>60 months</td>\n",
       "    </tr>\n",
       "    <tr>\n",
       "      <th>2</th>\n",
       "      <td>5000</td>\n",
       "      <td>17.97</td>\n",
       "      <td>10.51</td>\n",
       "      <td>0.0</td>\n",
       "      <td>59280.0</td>\n",
       "      <td>Current</td>\n",
       "      <td>36 months</td>\n",
       "    </tr>\n",
       "    <tr>\n",
       "      <th>3</th>\n",
       "      <td>4000</td>\n",
       "      <td>18.94</td>\n",
       "      <td>16.74</td>\n",
       "      <td>0.0</td>\n",
       "      <td>92000.0</td>\n",
       "      <td>Current</td>\n",
       "      <td>36 months</td>\n",
       "    </tr>\n",
       "    <tr>\n",
       "      <th>4</th>\n",
       "      <td>30000</td>\n",
       "      <td>16.14</td>\n",
       "      <td>26.35</td>\n",
       "      <td>0.0</td>\n",
       "      <td>57250.0</td>\n",
       "      <td>Current</td>\n",
       "      <td>60 months</td>\n",
       "    </tr>\n",
       "  </tbody>\n",
       "</table>\n",
       "</div>"
      ],
      "text/plain": [
       "   loan_amnt  int_rate    dti  delinq_2yrs  annual_inc loan_status        term\n",
       "0       2500     13.56  18.24          0.0     55000.0     Current   36 months\n",
       "1      30000     18.94  26.52          0.0     90000.0     Current   60 months\n",
       "2       5000     17.97  10.51          0.0     59280.0     Current   36 months\n",
       "3       4000     18.94  16.74          0.0     92000.0     Current   36 months\n",
       "4      30000     16.14  26.35          0.0     57250.0     Current   60 months"
      ]
     },
     "execution_count": 3,
     "metadata": {},
     "output_type": "execute_result"
    }
   ],
   "source": [
    "df_model.head()"
   ]
  },
  {
   "cell_type": "code",
   "execution_count": 4,
   "id": "ec0d68c5-6456-42ec-a2da-ae862ed2e8f8",
   "metadata": {},
   "outputs": [],
   "source": [
    "#Boxploty i wartości odstajce dla zmiennych liczbowych\n",
    "import seaborn as sns\n",
    "import matplotlib.pyplot as plt\n",
    "from scipy.stats import zscore\n",
    "\n",
    "selected_vars = ['loan_amnt', 'int_rate', 'dti', 'delinq_2yrs', 'annual_inc', 'loan_status']\n",
    "df_model = pd.read_csv('df_model.csv') "
   ]
  },
  {
   "cell_type": "code",
   "execution_count": 5,
   "id": "98b7d3f2-c122-49c3-8ab7-5b3c142fc835",
   "metadata": {},
   "outputs": [
    {
     "name": "stdout",
     "output_type": "stream",
     "text": [
      "loan_status\n",
      "Fully Paid     1041701\n",
      "Charged Off     261593\n",
      "Name: count, dtype: int64\n"
     ]
    }
   ],
   "source": [
    "# Filtrowanie tylko dwóch kategorii: Fully Paid i Charged Off\n",
    "df_model_bin = df_model[df_model['loan_status'].isin(['Fully Paid', 'Charged Off'])].copy()\n",
    "df_model_bin['loan_status_bin'] = df_model_bin['loan_status'].map({'Fully Paid': 0, 'Charged Off': 1})\n",
    "df_model_bin.to_csv('df_model_bin.csv', index=False)\n",
    "df_model_bin = pd.read_csv('df_model_bin.csv') \n",
    "\n",
    "# Sprawdzenie liczby obserwacji po filtracji\n",
    "print(df_model_bin['loan_status'].value_counts())"
   ]
  },
  {
   "cell_type": "code",
   "execution_count": 6,
   "id": "3a4ff1cd-cbad-41fc-929d-02dba146896b",
   "metadata": {},
   "outputs": [
    {
     "name": "stdout",
     "output_type": "stream",
     "text": [
      "Zmienna: loan_amnt\n",
      "Liczba obserwacji: 1303294\n",
      "Liczba obserwacji odstających: 0\n",
      "Udział odstających: 0.0%\n"
     ]
    },
    {
     "data": {
      "image/png": "[encoded data removed]",
      "text/plain": [
       "<Figure size 600x400 with 1 Axes>"
      ]
     },
     "metadata": {},
     "output_type": "display_data"
    }
   ],
   "source": [
    "#Boxploty i wartości odstajce dla zmiennych liczbowych\n",
    "import pandas as pd\n",
    "import seaborn as sns\n",
    "import matplotlib.pyplot as plt\n",
    "from scipy.stats import zscore\n",
    "\n",
    "var = 'loan_amnt'\n",
    "\n",
    "df_model_bin[f'{var}_z'] = zscore(df_model_bin[var])\n",
    "outliers = df_model_bin[(df_model_bin[f'{var}_z'] > 3) | (df_model_bin[f'{var}_z'] < -3)]\n",
    "\n",
    "\n",
    "total_obs = df_model_bin.shape[0]\n",
    "outlier_count = outliers.shape[0]\n",
    "outlier_percent = round(100 * outlier_count / total_obs, 2)\n",
    "\n",
    "print(f\"Zmienna: {var}\")\n",
    "print(f\"Liczba obserwacji: {total_obs}\")\n",
    "print(f\"Liczba obserwacji odstających: {outlier_count}\")\n",
    "print(f\"Udział odstających: {outlier_percent}%\")\n",
    "\n",
    "plt.figure(figsize=(6, 4))\n",
    "sns.boxplot(y=df_model_bin[var])\n",
    "plt.title(f'Boxplot: {var}')\n",
    "plt.tight_layout()\n",
    "plt.show()"
   ]
  },
  {
   "cell_type": "code",
   "execution_count": 7,
   "id": "eefa3c9d-99e0-400d-9e4d-26699651cd05",
   "metadata": {},
   "outputs": [
    {
     "name": "stdout",
     "output_type": "stream",
     "text": [
      "Zmienna: int_rate\n",
      "Liczba obserwacji: 1303294\n",
      "Liczba obserwacji odstających: 9323\n",
      "Udział odstających: 0.72%\n"
     ]
    },
    {
     "data": {
      "image/png": "[encoded data removed]",
      "text/plain": [
       "<Figure size 600x400 with 1 Axes>"
      ]
     },
     "metadata": {},
     "output_type": "display_data"
    }
   ],
   "source": [
    "var = 'int_rate'\n",
    "\n",
    "df_model_bin[f'{var}_z'] = zscore(df_model_bin[var])\n",
    "outliers = df_model_bin[(df_model_bin[f'{var}_z'] > 3) | (df_model_bin[f'{var}_z'] < -3)]\n",
    "\n",
    "total_obs = df_model_bin.shape[0]\n",
    "outlier_count = outliers.shape[0]\n",
    "outlier_percent = round(100 * outlier_count / total_obs, 2)\n",
    "\n",
    "print(f\"Zmienna: {var}\")\n",
    "print(f\"Liczba obserwacji: {total_obs}\")\n",
    "print(f\"Liczba obserwacji odstających: {outlier_count}\")\n",
    "print(f\"Udział odstających: {outlier_percent}%\")\n",
    "\n",
    "plt.figure(figsize=(6, 4))\n",
    "sns.boxplot(y=df_model_bin[var])\n",
    "plt.title(f'Boxplot: {var}')\n",
    "plt.tight_layout()\n",
    "plt.show()"
   ]
  },
  {
   "cell_type": "code",
   "execution_count": 8,
   "id": "73e8f588-aae9-400e-a138-f10684b93567",
   "metadata": {},
   "outputs": [
    {
     "name": "stdout",
     "output_type": "stream",
     "text": [
      "Zmienna: dti\n",
      "Liczba obserwacji: 1303294\n",
      "Liczba obserwacji odstających: 2353\n",
      "Udział odstających: 0.18%\n"
     ]
    },
    {
     "data": {
      "image/png": "[encoded data removed]",
      "text/plain": [
       "<Figure size 600x400 with 1 Axes>"
      ]
     },
     "metadata": {},
     "output_type": "display_data"
    }
   ],
   "source": [
    "var = 'dti'\n",
    "\n",
    "df_model_bin[f'{var}_z'] = zscore(df_model_bin[var])\n",
    "outliers = df_model_bin[(df_model_bin[f'{var}_z'] > 3) | (df_model_bin[f'{var}_z'] < -3)]\n",
    "\n",
    "total_obs = df_model_bin.shape[0]\n",
    "outlier_count = outliers.shape[0]\n",
    "outlier_percent = round(100 * outlier_count / total_obs, 2)\n",
    "\n",
    "print(f\"Zmienna: {var}\")\n",
    "print(f\"Liczba obserwacji: {total_obs}\")\n",
    "print(f\"Liczba obserwacji odstających: {outlier_count}\")\n",
    "print(f\"Udział odstających: {outlier_percent}%\")\n",
    "\n",
    "plt.figure(figsize=(6, 4))\n",
    "sns.boxplot(y=df_model_bin[var])\n",
    "plt.title(f'Boxplot: {var}')\n",
    "plt.tight_layout()\n",
    "plt.show()"
   ]
  },
  {
   "cell_type": "code",
   "execution_count": 9,
   "id": "8017c7ed-9acb-4d3f-88da-6824aa962743",
   "metadata": {},
   "outputs": [
    {
     "name": "stdout",
     "output_type": "stream",
     "text": [
      "Zmienna: delinq_2yrs\n",
      "Liczba obserwacji: 1303294\n",
      "Liczba obserwacji odstających: 35338\n",
      "Udział odstających: 2.71%\n"
     ]
    },
    {
     "data": {
      "image/png": "[encoded data removed]",
      "text/plain": [
       "<Figure size 600x400 with 1 Axes>"
      ]
     },
     "metadata": {},
     "output_type": "display_data"
    }
   ],
   "source": [
    "var = 'delinq_2yrs'\n",
    "\n",
    "df_model_bin[f'{var}_z'] = zscore(df_model_bin[var])\n",
    "outliers = df_model_bin[(df_model_bin[f'{var}_z'] > 3) | (df_model_bin[f'{var}_z'] < -3)]\n",
    "\n",
    "total_obs = df_model_bin.shape[0]\n",
    "outlier_count = outliers.shape[0]\n",
    "outlier_percent = round(100 * outlier_count / total_obs, 2)\n",
    "\n",
    "print(f\"Zmienna: {var}\")\n",
    "print(f\"Liczba obserwacji: {total_obs}\")\n",
    "print(f\"Liczba obserwacji odstających: {outlier_count}\")\n",
    "print(f\"Udział odstających: {outlier_percent}%\")\n",
    "\n",
    "plt.figure(figsize=(6, 4))\n",
    "sns.boxplot(y=df_model_bin[var])\n",
    "plt.title(f'Boxplot: {var}')\n",
    "plt.tight_layout()\n",
    "plt.show()"
   ]
  },
  {
   "cell_type": "code",
   "execution_count": 10,
   "id": "a923b4c5-ce0f-409c-9af5-5957fc2dd253",
   "metadata": {},
   "outputs": [
    {
     "name": "stdout",
     "output_type": "stream",
     "text": [
      "Zmienna: annual_inc\n",
      "Liczba obserwacji: 1303294\n",
      "Liczba obserwacji odstających: 9554\n",
      "Udział odstających: 0.73%\n"
     ]
    },
    {
     "data": {
      "image/png": "[encoded data removed]",
      "text/plain": [
       "<Figure size 600x400 with 1 Axes>"
      ]
     },
     "metadata": {},
     "output_type": "display_data"
    }
   ],
   "source": [
    "var = 'annual_inc'\n",
    "\n",
    "df_model_bin[f'{var}_z'] = zscore(df_model_bin[var])\n",
    "outliers = df_model_bin[(df_model_bin[f'{var}_z'] > 3) | (df_model_bin[f'{var}_z'] < -3)]\n",
    "\n",
    "total_obs = df_model_bin.shape[0]\n",
    "outlier_count = outliers.shape[0]\n",
    "outlier_percent = round(100 * outlier_count / total_obs, 2)\n",
    "\n",
    "print(f\"Zmienna: {var}\")\n",
    "print(f\"Liczba obserwacji: {total_obs}\")\n",
    "print(f\"Liczba obserwacji odstających: {outlier_count}\")\n",
    "print(f\"Udział odstających: {outlier_percent}%\")\n",
    "\n",
    "plt.figure(figsize=(6, 4))\n",
    "sns.boxplot(y=df_model_bin[var])\n",
    "plt.title(f'Boxplot: {var}')\n",
    "plt.tight_layout()\n",
    "plt.show()"
   ]
  },
  {
   "cell_type": "code",
   "execution_count": 11,
   "id": "b3ab0e0d-47c8-451d-a7ea-b351233b3d80",
   "metadata": {},
   "outputs": [
    {
     "name": "stdout",
     "output_type": "stream",
     "text": [
      "term\n",
      "36 months    75.851343\n",
      "60 months    24.148657\n",
      "Name: proportion, dtype: float64\n"
     ]
    }
   ],
   "source": [
    "#częstość występowania kategorii w zmiennej term\n",
    "print(df_model_bin['term'].value_counts(normalize=True) * 100)"
   ]
  },
  {
   "cell_type": "code",
   "execution_count": 12,
   "id": "297d7973-9e13-452e-8181-55ddacfad9cf",
   "metadata": {},
   "outputs": [
    {
     "data": {
      "text/html": [
       "<div>\n",
       "<style scoped>\n",
       "    .dataframe tbody tr th:only-of-type {\n",
       "        vertical-align: middle;\n",
       "    }\n",
       "\n",
       "    .dataframe tbody tr th {\n",
       "        vertical-align: top;\n",
       "    }\n",
       "\n",
       "    .dataframe thead th {\n",
       "        text-align: right;\n",
       "    }\n",
       "</style>\n",
       "<table border=\"1\" class=\"dataframe\">\n",
       "  <thead>\n",
       "    <tr style=\"text-align: right;\">\n",
       "      <th></th>\n",
       "      <th>loan_amnt</th>\n",
       "      <th>int_rate</th>\n",
       "      <th>dti</th>\n",
       "      <th>delinq_2yrs</th>\n",
       "      <th>annual_inc</th>\n",
       "      <th>loan_status</th>\n",
       "      <th>term</th>\n",
       "      <th>loan_status_bin</th>\n",
       "      <th>loan_amnt_z</th>\n",
       "      <th>int_rate_z</th>\n",
       "      <th>dti_z</th>\n",
       "      <th>delinq_2yrs_z</th>\n",
       "      <th>annual_inc_z</th>\n",
       "    </tr>\n",
       "  </thead>\n",
       "  <tbody>\n",
       "    <tr>\n",
       "      <th>0</th>\n",
       "      <td>30000</td>\n",
       "      <td>22.35</td>\n",
       "      <td>30.46</td>\n",
       "      <td>0.0</td>\n",
       "      <td>100000.0</td>\n",
       "      <td>Fully Paid</td>\n",
       "      <td>36 months</td>\n",
       "      <td>0</td>\n",
       "      <td>1.791458</td>\n",
       "      <td>1.910254</td>\n",
       "      <td>1.115442</td>\n",
       "      <td>-0.362055</td>\n",
       "      <td>0.340096</td>\n",
       "    </tr>\n",
       "    <tr>\n",
       "      <th>1</th>\n",
       "      <td>40000</td>\n",
       "      <td>16.14</td>\n",
       "      <td>50.53</td>\n",
       "      <td>0.0</td>\n",
       "      <td>45000.0</td>\n",
       "      <td>Fully Paid</td>\n",
       "      <td>60 months</td>\n",
       "      <td>0</td>\n",
       "      <td>2.941021</td>\n",
       "      <td>0.605692</td>\n",
       "      <td>2.950248</td>\n",
       "      <td>-0.362055</td>\n",
       "      <td>-0.445087</td>\n",
       "    </tr>\n",
       "    <tr>\n",
       "      <th>2</th>\n",
       "      <td>20000</td>\n",
       "      <td>7.56</td>\n",
       "      <td>18.92</td>\n",
       "      <td>0.0</td>\n",
       "      <td>100000.0</td>\n",
       "      <td>Fully Paid</td>\n",
       "      <td>36 months</td>\n",
       "      <td>0</td>\n",
       "      <td>0.641895</td>\n",
       "      <td>-1.196745</td>\n",
       "      <td>0.060452</td>\n",
       "      <td>-0.362055</td>\n",
       "      <td>0.340096</td>\n",
       "    </tr>\n",
       "    <tr>\n",
       "      <th>3</th>\n",
       "      <td>4500</td>\n",
       "      <td>11.31</td>\n",
       "      <td>4.64</td>\n",
       "      <td>0.0</td>\n",
       "      <td>38500.0</td>\n",
       "      <td>Fully Paid</td>\n",
       "      <td>36 months</td>\n",
       "      <td>0</td>\n",
       "      <td>-1.139928</td>\n",
       "      <td>-0.408966</td>\n",
       "      <td>-1.245031</td>\n",
       "      <td>-0.362055</td>\n",
       "      <td>-0.537882</td>\n",
       "    </tr>\n",
       "    <tr>\n",
       "      <th>4</th>\n",
       "      <td>8425</td>\n",
       "      <td>27.27</td>\n",
       "      <td>12.37</td>\n",
       "      <td>0.0</td>\n",
       "      <td>450000.0</td>\n",
       "      <td>Fully Paid</td>\n",
       "      <td>36 months</td>\n",
       "      <td>0</td>\n",
       "      <td>-0.688725</td>\n",
       "      <td>2.943819</td>\n",
       "      <td>-0.538351</td>\n",
       "      <td>-0.362055</td>\n",
       "      <td>5.336715</td>\n",
       "    </tr>\n",
       "    <tr>\n",
       "      <th>5</th>\n",
       "      <td>20000</td>\n",
       "      <td>17.97</td>\n",
       "      <td>22.18</td>\n",
       "      <td>0.0</td>\n",
       "      <td>57000.0</td>\n",
       "      <td>Fully Paid</td>\n",
       "      <td>60 months</td>\n",
       "      <td>0</td>\n",
       "      <td>0.641895</td>\n",
       "      <td>0.990128</td>\n",
       "      <td>0.358482</td>\n",
       "      <td>-0.362055</td>\n",
       "      <td>-0.273775</td>\n",
       "    </tr>\n",
       "    <tr>\n",
       "      <th>6</th>\n",
       "      <td>6600</td>\n",
       "      <td>11.31</td>\n",
       "      <td>16.21</td>\n",
       "      <td>0.0</td>\n",
       "      <td>45000.0</td>\n",
       "      <td>Fully Paid</td>\n",
       "      <td>36 months</td>\n",
       "      <td>0</td>\n",
       "      <td>-0.898520</td>\n",
       "      <td>-0.408966</td>\n",
       "      <td>-0.187297</td>\n",
       "      <td>-0.362055</td>\n",
       "      <td>-0.445087</td>\n",
       "    </tr>\n",
       "    <tr>\n",
       "      <th>7</th>\n",
       "      <td>2500</td>\n",
       "      <td>13.56</td>\n",
       "      <td>15.09</td>\n",
       "      <td>0.0</td>\n",
       "      <td>42000.0</td>\n",
       "      <td>Fully Paid</td>\n",
       "      <td>36 months</td>\n",
       "      <td>0</td>\n",
       "      <td>-1.369841</td>\n",
       "      <td>0.063701</td>\n",
       "      <td>-0.289688</td>\n",
       "      <td>-0.362055</td>\n",
       "      <td>-0.487916</td>\n",
       "    </tr>\n",
       "    <tr>\n",
       "      <th>8</th>\n",
       "      <td>4000</td>\n",
       "      <td>17.97</td>\n",
       "      <td>19.10</td>\n",
       "      <td>0.0</td>\n",
       "      <td>60000.0</td>\n",
       "      <td>Fully Paid</td>\n",
       "      <td>36 months</td>\n",
       "      <td>0</td>\n",
       "      <td>-1.197407</td>\n",
       "      <td>0.990128</td>\n",
       "      <td>0.076907</td>\n",
       "      <td>-0.362055</td>\n",
       "      <td>-0.230947</td>\n",
       "    </tr>\n",
       "    <tr>\n",
       "      <th>9</th>\n",
       "      <td>2700</td>\n",
       "      <td>8.19</td>\n",
       "      <td>24.95</td>\n",
       "      <td>0.0</td>\n",
       "      <td>24000.0</td>\n",
       "      <td>Fully Paid</td>\n",
       "      <td>36 months</td>\n",
       "      <td>0</td>\n",
       "      <td>-1.346850</td>\n",
       "      <td>-1.064398</td>\n",
       "      <td>0.611716</td>\n",
       "      <td>-0.362055</td>\n",
       "      <td>-0.744884</td>\n",
       "    </tr>\n",
       "  </tbody>\n",
       "</table>\n",
       "</div>"
      ],
      "text/plain": [
       "   loan_amnt  int_rate    dti  delinq_2yrs  annual_inc loan_status  \\\n",
       "0      30000     22.35  30.46          0.0    100000.0  Fully Paid   \n",
       "1      40000     16.14  50.53          0.0     45000.0  Fully Paid   \n",
       "2      20000      7.56  18.92          0.0    100000.0  Fully Paid   \n",
       "3       4500     11.31   4.64          0.0     38500.0  Fully Paid   \n",
       "4       8425     27.27  12.37          0.0    450000.0  Fully Paid   \n",
       "5      20000     17.97  22.18          0.0     57000.0  Fully Paid   \n",
       "6       6600     11.31  16.21          0.0     45000.0  Fully Paid   \n",
       "7       2500     13.56  15.09          0.0     42000.0  Fully Paid   \n",
       "8       4000     17.97  19.10          0.0     60000.0  Fully Paid   \n",
       "9       2700      8.19  24.95          0.0     24000.0  Fully Paid   \n",
       "\n",
       "         term  loan_status_bin  loan_amnt_z  int_rate_z     dti_z  \\\n",
       "0   36 months                0     1.791458    1.910254  1.115442   \n",
       "1   60 months                0     2.941021    0.605692  2.950248   \n",
       "2   36 months                0     0.641895   -1.196745  0.060452   \n",
       "3   36 months                0    -1.139928   -0.408966 -1.245031   \n",
       "4   36 months                0    -0.688725    2.943819 -0.538351   \n",
       "5   60 months                0     0.641895    0.990128  0.358482   \n",
       "6   36 months                0    -0.898520   -0.408966 -0.187297   \n",
       "7   36 months                0    -1.369841    0.063701 -0.289688   \n",
       "8   36 months                0    -1.197407    0.990128  0.076907   \n",
       "9   36 months                0    -1.346850   -1.064398  0.611716   \n",
       "\n",
       "   delinq_2yrs_z  annual_inc_z  \n",
       "0      -0.362055      0.340096  \n",
       "1      -0.362055     -0.445087  \n",
       "2      -0.362055      0.340096  \n",
       "3      -0.362055     -0.537882  \n",
       "4      -0.362055      5.336715  \n",
       "5      -0.362055     -0.273775  \n",
       "6      -0.362055     -0.445087  \n",
       "7      -0.362055     -0.487916  \n",
       "8      -0.362055     -0.230947  \n",
       "9      -0.362055     -0.744884  "
      ]
     },
     "execution_count": 12,
     "metadata": {},
     "output_type": "execute_result"
    }
   ],
   "source": [
    "df_model_bin.head(10)"
   ]
  },
  {
   "cell_type": "code",
   "execution_count": 14,
   "id": "ab7c06a8-ee9e-452c-9047-3ff9ed071232",
   "metadata": {},
   "outputs": [
    {
     "name": "stdout",
     "output_type": "stream",
     "text": [
      "Training done\n",
      "Coefficients: [[-7.12856587e-05]]\n",
      "Intercept: [-6.23633337e-05]\n"
     ]
    }
   ],
   "source": [
    "from sklearn.model_selection import train_test_split\n",
    "from sklearn.linear_model import LogisticRegression\n",
    "\n",
    "X = df_model_bin[['loan_amnt']]\n",
    "y = df_model_bin['loan_status_bin']\n",
    "\n",
    "X_train, X_test, y_train, y_test = train_test_split(X, y, test_size=0.3, random_state=42)\n",
    "\n",
    "model = LogisticRegression(max_iter=1000, solver='liblinear')\n",
    "model.fit(X_train, y_train)\n",
    "\n",
    "print(\"Training done\")\n",
    "print(\"Coefficients:\", model.coef_)\n",
    "print(\"Intercept:\", model.intercept_)"
   ]
  },
  {
   "cell_type": "code",
   "execution_count": 48,
   "id": "7f9d9454-7222-4a7d-a4c4-1798bfa81978",
   "metadata": {},
   "outputs": [
    {
     "name": "stdout",
     "output_type": "stream",
     "text": [
      "Training done\n",
      "Coefficients: [[ 1.13362533e-05  5.97632064e-02 -1.07484252e-02  9.20046997e-03\n",
      "  -8.78997870e-06]]\n",
      "Intercept: [-0.06078061]\n",
      "Accuracy: 0.5219616433731427\n",
      "              precision    recall  f1-score   support\n",
      "\n",
      "           0       0.88      0.47      0.61    208386\n",
      "           1       0.26      0.74      0.38     52273\n",
      "\n",
      "    accuracy                           0.52    260659\n",
      "   macro avg       0.57      0.61      0.50    260659\n",
      "weighted avg       0.75      0.52      0.56    260659\n",
      "\n"
     ]
    }
   ],
   "source": [
    "#Model regresji logistycznej z wartościami odstajcymi\n",
    "\n",
    "from sklearn.model_selection import train_test_split\n",
    "from sklearn.linear_model import LogisticRegression\n",
    "from sklearn.metrics import accuracy_score, classification_report\n",
    "\n",
    "features = ['loan_amnt', 'int_rate', 'dti', 'delinq_2yrs', 'annual_inc']\n",
    "X = df_model_bin[features]\n",
    "y = df_model_bin['loan_status_bin']\n",
    "\n",
    "X_train, X_test, y_train, y_test = train_test_split(X, y, test_size=0.2, random_state=42)\n",
    "\n",
    "model = LogisticRegression(max_iter=1000, solver='liblinear', class_weight='balanced')\n",
    "model.fit(X_train, y_train)\n",
    "\n",
    "print(\"Training done\")\n",
    "print(\"Coefficients:\", model.coef_)\n",
    "print(\"Intercept:\", model.intercept_)\n",
    "\n",
    "y_pred = model.predict(X_test)\n",
    "print(\"Accuracy:\", accuracy_score(y_test, y_pred))\n",
    "print(classification_report(y_test, y_pred))"
   ]
  },
  {
   "cell_type": "code",
   "execution_count": 58,
   "id": "062f99a4-64c6-4d75-8163-c8753ab2e088",
   "metadata": {},
   "outputs": [
    {
     "name": "stdout",
     "output_type": "stream",
     "text": [
      "Liczba obserwacji po usunięciu wartości odstających: 978933\n",
      "Training done\n",
      "Coefficients: [[ 2.18246384e-05  7.00345781e-02 -8.20523220e-03  0.00000000e+00\n",
      "  -1.52671713e-05]]\n",
      "Intercept: [-0.0307298]\n",
      "Accuracy: 0.5484940266718423\n",
      "              precision    recall  f1-score   support\n",
      "\n",
      "           0       0.88      0.51      0.64    157498\n",
      "           1       0.26      0.71      0.38     38289\n",
      "\n",
      "    accuracy                           0.55    195787\n",
      "   macro avg       0.57      0.61      0.51    195787\n",
      "weighted avg       0.76      0.55      0.59    195787\n",
      "\n"
     ]
    }
   ],
   "source": [
    "#Model regresji logistycznej bez wartości odstających\n",
    "import numpy as np\n",
    "import pandas as pd\n",
    "from sklearn.model_selection import train_test_split\n",
    "from sklearn.linear_model import LogisticRegression\n",
    "from sklearn.metrics import classification_report, accuracy_score\n",
    "\n",
    "features = ['loan_amnt', 'int_rate', 'dti', 'delinq_2yrs', 'annual_inc']\n",
    "target = 'loan_status_bin'\n",
    "\n",
    "def remove_outliers_iqr(df, col):\n",
    "    Q1 = df[col].quantile(0.25)\n",
    "    Q3 = df[col].quantile(0.75)\n",
    "    IQR = Q3 - Q1\n",
    "    lower_bound = Q1 - 1.5 * IQR\n",
    "    upper_bound = Q3 + 1.5 * IQR\n",
    "    return df[(df[col] >= lower_bound) & (df[col] <= upper_bound)]\n",
    "\n",
    "df_clean = df_model_bin.copy()\n",
    "for col in features:\n",
    "    df_clean = remove_outliers_iqr(df_clean, col)\n",
    "\n",
    "print(f\"Liczba obserwacji po usunięciu wartości odstających: {len(df_clean)}\")\n",
    "\n",
    "X = df_clean[features]\n",
    "y = df_clean[target]\n",
    "\n",
    "X_train, X_test, y_train, y_test = train_test_split(X, y, test_size=0.2, random_state=42)\n",
    "\n",
    "model = LogisticRegression(max_iter=1000, solver='liblinear', class_weight='balanced')\n",
    "model.fit(X_train, y_train)\n",
    "\n",
    "print(\"Training done\")\n",
    "print(\"Coefficients:\", model.coef_)\n",
    "print(\"Intercept:\", model.intercept_)\n",
    "\n",
    "y_pred = model.predict(X_test)\n",
    "accuracy = accuracy_score(y_test, y_pred)\n",
    "print(\"Accuracy:\", accuracy)\n",
    "print(classification_report(y_test, y_pred))"
   ]
  },
  {
   "cell_type": "code",
   "execution_count": 54,
   "id": "c8f8d876-f8d3-4eec-9a58-f016d4c60f44",
   "metadata": {},
   "outputs": [
    {
     "name": "stdout",
     "output_type": "stream",
     "text": [
      "Training done\n",
      "Accuracy: 0.5842114134237717\n",
      "              precision    recall  f1-score   support\n",
      "\n",
      "           0       0.89      0.55      0.68    157498\n",
      "           1       0.28      0.72      0.40     38289\n",
      "\n",
      "    accuracy                           0.58    195787\n",
      "   macro avg       0.59      0.64      0.54    195787\n",
      "weighted avg       0.77      0.58      0.63    195787\n",
      "\n"
     ]
    }
   ],
   "source": [
    "#Drzewa decyzyjne dla zmiennych (bez wartości odstajcych)\n",
    "\n",
    "from sklearn.tree import DecisionTreeClassifier\n",
    "from sklearn.metrics import classification_report, accuracy_score\n",
    "\n",
    "tree_model = DecisionTreeClassifier(random_state=42, max_depth=5, class_weight='balanced')  \n",
    "tree_model.fit(X_train, y_train)\n",
    "\n",
    "y_pred = tree_model.predict(X_test)\n",
    "\n",
    "print(\"Training done\")\n",
    "print(\"Accuracy:\", accuracy_score(y_test, y_pred))\n",
    "print(classification_report(y_test, y_pred))"
   ]
  },
  {
   "cell_type": "code",
   "execution_count": 26,
   "id": "41d38e7e-6ea6-4d86-9ec4-c5625738af42",
   "metadata": {},
   "outputs": [
    {
     "name": "stdout",
     "output_type": "stream",
     "text": [
      "Liczba obserwacji po usunięciu wartości odstających: 1214305\n"
     ]
    }
   ],
   "source": [
    "#Przygotowanie danych do random forest\n",
    "df_model_bin_no_outliers = df_model_bin.copy()\n",
    "\n",
    "vars_to_filter = ['loan_amnt', 'int_rate', 'dti', 'annual_inc', 'delinq_2yrs']\n",
    "\n",
    "for col in vars_to_filter:\n",
    "    lower = df_model_bin_no_outliers[col].quantile(0.01)\n",
    "    upper = df_model_bin_no_outliers[col].quantile(0.99)\n",
    "    df_model_bin_no_outliers = df_model_bin_no_outliers[\n",
    "        (df_model_bin_no_outliers[col] >= lower) & (df_model_bin_no_outliers[col] <= upper)\n",
    "    ]\n",
    "\n",
    "print(\"Liczba obserwacji po usunięciu wartości odstających:\", len(df_model_bin_no_outliers))"
   ]
  },
  {
   "cell_type": "code",
   "execution_count": 28,
   "id": "80d63406-91ee-44f0-ac53-462e8aff4611",
   "metadata": {},
   "outputs": [
    {
     "name": "stdout",
     "output_type": "stream",
     "text": [
      "Training done\n",
      "Accuracy: 0.613873779651735\n",
      "              precision    recall  f1-score   support\n",
      "\n",
      "           0       0.88      0.60      0.71    194614\n",
      "           1       0.30      0.68      0.41     48247\n",
      "\n",
      "    accuracy                           0.61    242861\n",
      "   macro avg       0.59      0.64      0.56    242861\n",
      "weighted avg       0.77      0.61      0.65    242861\n",
      "\n"
     ]
    }
   ],
   "source": [
    "#Random forest dla danych bez outliers\n",
    "\n",
    "from sklearn.ensemble import RandomForestClassifier\n",
    "from sklearn.model_selection import train_test_split\n",
    "from sklearn.metrics import classification_report, accuracy_score\n",
    "\n",
    "X = df_model_bin_no_outliers[['loan_amnt', 'int_rate', 'dti', 'annual_inc', 'delinq_2yrs']]\n",
    "y = df_model_bin_no_outliers['loan_status_bin']\n",
    "\n",
    "X_train, X_test, y_train, y_test = train_test_split(\n",
    "    X, y, test_size=0.2, random_state=42\n",
    ")\n",
    "\n",
    "model_rf = RandomForestClassifier(\n",
    "    n_estimators=100,\n",
    "    max_depth=7,\n",
    "    random_state=42,\n",
    "    class_weight='balanced'\n",
    ")\n",
    "\n",
    "model_rf.fit(X_train, y_train)\n",
    "\n",
    "y_pred = model_rf.predict(X_test)\n",
    "accuracy = accuracy_score(y_test, y_pred)\n",
    "report = classification_report(y_test, y_pred)\n",
    "\n",
    "print(\"Training done\")\n",
    "print(\"Accuracy:\", accuracy)\n",
    "print(report)"
   ]
  },
  {
   "cell_type": "code",
   "execution_count": 36,
   "id": "768739c3-2210-477d-b958-fa4a54054a4a",
   "metadata": {},
   "outputs": [
    {
     "data": {
      "image/png": "[encoded data removed]",
      "text/plain": [
       "<Figure size 800x500 with 1 Axes>"
      ]
     },
     "metadata": {},
     "output_type": "display_data"
    },
    {
     "ename": "AttributeError",
     "evalue": "'RandomForestClassifier' object has no attribute 'to_excel'",
     "output_type": "error",
     "traceback": [
      "\u001b[0;31m---------------------------------------------------------------------------\u001b[0m",
      "\u001b[0;31mAttributeError\u001b[0m                            Traceback (most recent call last)",
      "Cell \u001b[0;32mIn[36], line 28\u001b[0m\n\u001b[1;32m     25\u001b[0m plt\u001b[38;5;241m.\u001b[39msavefig(\u001b[38;5;124m'\u001b[39m\u001b[38;5;124mRandom_forest\u001b[39m\u001b[38;5;124m'\u001b[39m)\n\u001b[1;32m     26\u001b[0m plt\u001b[38;5;241m.\u001b[39mshow()\n\u001b[0;32m---> 28\u001b[0m model_rf\u001b[38;5;241m.\u001b[39mto_excel(\u001b[38;5;124m'\u001b[39m\u001b[38;5;124mRandom_forest_dane_model.xlsx\u001b[39m\u001b[38;5;124m'\u001b[39m)\n",
      "\u001b[0;31mAttributeError\u001b[0m: 'RandomForestClassifier' object has no attribute 'to_excel'"
     ]
    }
   ],
   "source": [
    "#Wizualizacja Random Forest\n",
    "import matplotlib.pyplot as plt\n",
    "import pandas as pd\n",
    "import numpy as np\n",
    "\n",
    "feature_names = X.columns\n",
    "\n",
    "importances = model_rf.feature_importances_\n",
    "\n",
    "indices = np.argsort(importances)[::-1]\n",
    "\n",
    "plt.figure(figsize=(8, 5))\n",
    "plt.title(\"Ważność zmiennych w Random Forest\")\n",
    "plt.bar(range(X.shape[1]), importances[indices], align=\"center\", color='skyblue')\n",
    "plt.xticks(range(X.shape[1]), [feature_names[i] for i in indices], rotation=45)\n",
    "plt.ylabel(\"Wartość ważności\")\n",
    "plt.tight_layout()\n",
    "plt.grid(axis='y', linestyle='--', alpha=0.7)\n",
    "plt.savefig('Random_forest')\n",
    "plt.show()\n"
   ]
  },
  {
   "cell_type": "code",
   "execution_count": 40,
   "id": "ed4ef6ff-9c5e-4d16-97fe-d9c1cb861d7e",
   "metadata": {},
   "outputs": [
    {
     "name": "stdout",
     "output_type": "stream",
     "text": [
      "Zapisano do pliku 'waznosc_zmiennych_random_forest.xlsx'\n"
     ]
    }
   ],
   "source": [
    "from sklearn.ensemble import RandomForestClassifier\n",
    "import pandas as pd\n",
    "\n",
    "X = df_model_bin_no_outliers[['loan_amnt', 'int_rate', 'dti', 'annual_inc', 'delinq_2yrs']]\n",
    "y = df_model_bin_no_outliers['loan_status_bin']\n",
    "\n",
    "from sklearn.model_selection import train_test_split\n",
    "X_train, X_test, y_train, y_test = train_test_split(X, y, test_size=0.2, random_state=42)\n",
    "\n",
    "rf_model = RandomForestClassifier(random_state=42)\n",
    "rf_model.fit(X_train, y_train)\n",
    "\n",
    "feature_importances = rf_model.feature_importances_\n",
    "\n",
    "importances_df = pd.DataFrame({\n",
    "    'Zmienne': X.columns,\n",
    "    'Ważność': feature_importances\n",
    "})\n",
    "\n",
    "importances_df.to_excel('waznosc_zmiennych_random_forest.xlsx', index=False)\n",
    "\n",
    "print(\"Zapisano do pliku 'waznosc_zmiennych_random_forest.xlsx'\")"
   ]
  },
  {
   "cell_type": "code",
   "execution_count": 56,
   "id": "3d5849da-fccf-4835-b5f5-6a84744a779a",
   "metadata": {},
   "outputs": [
    {
     "name": "stdout",
     "output_type": "stream",
     "text": [
      "Requirement already satisfied: xgboost in ./Documents/anaconda3/lib/python3.12/site-packages (3.0.2)\n",
      "Requirement already satisfied: numpy in ./Documents/anaconda3/lib/python3.12/site-packages (from xgboost) (1.26.4)\n",
      "Requirement already satisfied: scipy in ./Documents/anaconda3/lib/python3.12/site-packages (from xgboost) (1.15.3)\n"
     ]
    },
    {
     "name": "stderr",
     "output_type": "stream",
     "text": [
      "/Users/dominikaporebska/Documents/anaconda3/lib/python3.12/site-packages/xgboost/training.py:183: UserWarning: [11:59:53] WARNING: /Users/runner/work/xgboost/xgboost/src/learner.cc:738: \n",
      "Parameters: { \"use_label_encoder\" } are not used.\n",
      "\n",
      "  bst.update(dtrain, iteration=i, fobj=obj)\n"
     ]
    },
    {
     "name": "stdout",
     "output_type": "stream",
     "text": [
      "Accuracy: 0.5088383890373506\n",
      "              precision    recall  f1-score   support\n",
      "\n",
      "           0       0.91      0.43      0.58    194614\n",
      "           1       0.26      0.83      0.40     48247\n",
      "\n",
      "    accuracy                           0.51    242861\n",
      "   macro avg       0.59      0.63      0.49    242861\n",
      "weighted avg       0.78      0.51      0.55    242861\n",
      "\n"
     ]
    },
    {
     "data": {
      "image/png": "[encoded data removed]",
      "text/plain": [
       "<Figure size 640x480 with 1 Axes>"
      ]
     },
     "metadata": {},
     "output_type": "display_data"
    }
   ],
   "source": [
    "#XGBoost\n",
    "\n",
    "!pip install xgboost\n",
    "\n",
    "import xgboost as xgb\n",
    "from sklearn.metrics import classification_report, accuracy_score\n",
    "\n",
    "X = df_model_bin_no_outliers[['loan_amnt', 'int_rate', 'dti', 'annual_inc', 'delinq_2yrs']]\n",
    "y = df_model_bin_no_outliers['loan_status_bin']\n",
    "\n",
    "X_train, X_test, y_train, y_test = train_test_split(X, y, test_size=0.2, random_state=42)\n",
    "\n",
    "xgb_model = xgb.XGBClassifier(use_label_encoder=False, eval_metric='logloss', random_state=42, scale_pos_weight = 6)\n",
    "xgb_model.fit(X_train, y_train)\n",
    "\n",
    "y_pred = xgb_model.predict(X_test)\n",
    "\n",
    "print(\"Accuracy:\", accuracy_score(y_test, y_pred))\n",
    "print(classification_report(y_test, y_pred))\n",
    "\n",
    "import matplotlib.pyplot as plt\n",
    "xgb.plot_importance(xgb_model)\n",
    "plt.title('Ważność zmiennych - XGBoost')\n",
    "plt.tight_layout()\n",
    "plt.savefig('XGBoost')\n",
    "plt.show()"
   ]
  },
  {
   "cell_type": "code",
   "execution_count": null,
   "id": "50e6b24f-7191-41f7-a5d0-ff5c7dfae123",
   "metadata": {},
   "outputs": [],
   "source": []
  }
 ],
 "metadata": {
  "kernelspec": {
   "display_name": "Python 3 (ipykernel)",
   "language": "python",
   "name": "python3"
  },
  "language_info": {
   "codemirror_mode": {
    "name": "ipython",
    "version": 3
   },
   "file_extension": ".py",
   "mimetype": "text/x-python",
   "name": "python",
   "nbconvert_exporter": "python",
   "pygments_lexer": "ipython3",
   "version": "3.12.7"
  }
 },
 "nbformat": 4,
 "nbformat_minor": 5
}
